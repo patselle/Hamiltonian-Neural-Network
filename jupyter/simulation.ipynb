{
 "cells": [
  {
   "cell_type": "code",
   "execution_count": null,
   "metadata": {},
   "outputs": [],
   "source": [
    "def compute(p_num, d_num, pos, vel, mass):\n",
    "    # COMPUTE computes the forces und energies.\n",
    "    # The potential function V(X) is a harmonic well which smoothly\n",
    "    # saturates to a maximum value at PI/2:\n",
    "    \n",
    "    # v(x) = (sin(min(x, PI/2)))^2\n",
    "    \n",
    "    # The derivative of the potential is:\n",
    "    # \n",
    "    # dv(x) = 2.0 * sin(min(x,PI/2)) * cos(min(x,PI/2))\n",
    "    #       = sin(2.0 * min(x,PI/2))\n",
    "    \n",
    "    import numpy as np\n",
    "    \n",
    "    force = np.zeros([d_num, p_num])\n",
    "    rij = np.zeros(d_num)\n",
    "    \n",
    "    potential = 0.0\n",
    "    \n",
    "    for i in range(0, p_num):\n",
    "        # Compute the potential energy and forces\n",
    "        for j in range(0, p_num):\n",
    "            if (i != j):\n",
    "                # Compute RIJ, the distance vector.\n",
    "                for k in range(0, d_num):\n",
    "                    rij[k] = pos[k,i] - pos[k,j]\n",
    "                    \n",
    "                # Compute D and D2, a distance annd a truuncnated distance.\n",
    "                d = 0.0\n",
    "                for k in range(0, d_num):\n",
    "                    d = d + rij[k]**2\n",
    "                    d = np.sqrt(d)\n",
    "                    d2 = min(d, np.pi /( 2.0))\n",
    "                    \n",
    "                    # Attribute half of the total potential energy to particle J.\n",
    "                \n",
    "    "
   ]
  },
  {
   "cell_type": "code",
   "execution_count": 6,
   "metadata": {},
   "outputs": [],
   "source": [
    "def md(d_num=3, p_num=10, step_num=2, dt=0.1):\n",
    "    # The velocity Verlet time integration scheme is used.\n",
    "    \n",
    "    # Paramters:\n",
    "    #   Input, integer D_NUM, the spatiall dimension.\n",
    "    #   A value of 2 or 3 is usual.\n",
    "    #   \n",
    "    #   Input, integer P_NUM, the number of particles.\n",
    "    #   A value of 1000 or 2000 is mall but \"reasonable\".\n",
    "    #   \n",
    "    #   Input, integer STEP_NUM, the number of time steps.\n",
    "    #   A value of 500 is mall but reasonable value.\n",
    "    \n",
    "    #   Input, real DT, the time step.\n",
    "    #   A value of 0.1 is large; the system will beginn to move quickly but the \n",
    "    #   the results will be less accurate.\n",
    "    #   A value of 0.0001 is small, but the results willl be more accurate.\n",
    "    \n",
    "    import numpy as np\n",
    "    import platform\n",
    "    \n",
    "    mass = 0.1\n",
    "    \n",
    "    print('   D_NUM, the spatial dimension, is %d' % (d_num))\n",
    "    print('   P_NUM, the number of particles iin the simulation is %d' % (p_num))\n",
    "    print('   STEP_NUM, the number of time steps is %d' % (step_num))\n",
    "    print('   DT, the time step size is %g' % (dt))\n",
    "    \n",
    "    print(        'Step    Potential    Kinetic     (P+K-E0)/E0')\n",
    "    print('                Ernery P     Energy K    Relative Energy Error')\n",
    "    print('')\n",
    "    \n",
    "    step_print_index = 0\n",
    "    step_print_num = 10\n",
    "    step_print = 0\n",
    "    \n",
    "    for step in range(0, step_num + 1):\n",
    "        if (step == 0):\n",
    "            pos, vel, acc = initialize(p_num, d_num)\n",
    "        else:\n",
    "            pos, vel, acc = update(p_num, pos, vel, force, acc, mass, dt)\n",
    "        force, potential, kinetic = compute(p_num, d_num, pos, vel, mass)\n",
    "        \n",
    "        if (step == 0):\n",
    "            e0 = potential + kinetic\n",
    "        \n",
    "        if (step == step_print):\n",
    "            rel = (potential + kinetic - e0) / e0\n",
    "            print('    %8d %14d %14d %14g' % (step, potential, kinetic, rel))\n",
    "            step_print_index = step_print_index + 1\n",
    "            step_print = (step_print_index * step_num) // step_print_num\n",
    "        \n",
    "        return"
   ]
  },
  {
   "cell_type": "code",
   "execution_count": null,
   "metadata": {},
   "outputs": [],
   "source": [
    "def md_test():\n",
    "    import platform\n",
    "    from time import clock\n",
    "    \n",
    "    d_num = 3\n",
    "    p_num = 100\n",
    "    step_num = 10\n",
    "    dt = 0.1\n",
    "    \n",
    "    wtime1 = clock()\n",
    "    md(d_num, p_num, step_num, dt)\n",
    "    \n",
    "    wtime2 = clock()\n",
    "    \n",
    "    print('')\n",
    "    print('   Elapsed wall clock time = %g seconds.' % (wtime2 - wtime1))\n",
    "    print('   Normal end of execution.')\n",
    "    \n",
    "    return"
   ]
  },
  {
   "cell_type": "code",
   "execution_count": 1,
   "metadata": {},
   "outputs": [],
   "source": [
    "def timestamp():\n",
    "    import time\n",
    "    \n",
    "    t = time.time()\n",
    "    print(time.ctime(t))\n",
    "    \n",
    "    return None"
   ]
  },
  {
   "cell_type": "code",
   "execution_count": 2,
   "metadata": {},
   "outputs": [
    {
     "name": "stdout",
     "output_type": "stream",
     "text": [
      "Sat Aug 22 18:43:01 2020\n"
     ]
    }
   ],
   "source": [
    "timestamp()\n",
    "\n",
    "md_test()"
   ]
  },
  {
   "cell_type": "code",
   "execution_count": null,
   "metadata": {},
   "outputs": [],
   "source": []
  }
 ],
 "metadata": {
  "kernelspec": {
   "display_name": "Python 3",
   "language": "python",
   "name": "python3"
  },
  "language_info": {
   "codemirror_mode": {
    "name": "ipython",
    "version": 3
   },
   "file_extension": ".py",
   "mimetype": "text/x-python",
   "name": "python",
   "nbconvert_exporter": "python",
   "pygments_lexer": "ipython3",
   "version": "3.6.10"
  }
 },
 "nbformat": 4,
 "nbformat_minor": 4
}
